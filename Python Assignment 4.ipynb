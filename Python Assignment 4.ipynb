{
 "cells": [
  {
   "cell_type": "markdown",
   "id": "51206f0e",
   "metadata": {},
   "source": [
    "# <center> Python Assignment 4"
   ]
  },
  {
   "cell_type": "markdown",
   "id": "4db9b02f",
   "metadata": {},
   "source": [
    "### Name: Raees Rizwan"
   ]
  },
  {
   "cell_type": "markdown",
   "id": "a1f93160",
   "metadata": {},
   "source": [
    "1.1 Write a Python Program(with class concepts) to find the area of the triangle using the below\n",
    "formula.\n",
    "area = (s*(s-a)*(s-b)*(s-c)) ** 0.5\n",
    "\n",
    "Function to take the length of the sides of triangle from user should be defined in the parent\n",
    "class and function to calculate the area should be defined in subclass."
   ]
  },
  {
   "cell_type": "code",
   "execution_count": 4,
   "id": "1eb90541",
   "metadata": {},
   "outputs": [
    {
     "name": "stdout",
     "output_type": "stream",
     "text": [
      "Please enter the 3 sides of a triangle: \n",
      "a = 2\n",
      "b = 3\n",
      "c = 3\n",
      "Area of the given triangle is : 2.83\n"
     ]
    }
   ],
   "source": [
    "class Triangle:\n",
    "    def __init__(self,a,b,c):\n",
    "        self._a = a\n",
    "        self._b = b\n",
    "        self._c = c\n",
    "        \n",
    "class Area(Triangle):\n",
    "    def __init__(self,a,b,c):\n",
    "        super().__init__(a,b,c)\n",
    "        \n",
    "    def getArea(self):\n",
    "        s = (a + b + c) / 2\n",
    "        return (s*(s-a)*(s-b)*(s-c)) ** 0.5\n",
    "    \n",
    "\n",
    "# MAIN\n",
    "print(\"Please enter the 3 sides of a triangle: \")\n",
    "a = float(input(\"a = \"))\n",
    "b = float(input(\"b = \"))\n",
    "c = float(input(\"c = \"))\n",
    "t = Area(a,b,c)\n",
    "print(\"Area of the given triangle is : {}\".format(round(t.getArea(),2)))"
   ]
  },
  {
   "cell_type": "markdown",
   "id": "e917bc02",
   "metadata": {},
   "source": [
    "1.2 Write a function filter_long_words() that takes a list of words and an integer n and returns\n",
    "the list of words that are longer than n."
   ]
  },
  {
   "cell_type": "code",
   "execution_count": 7,
   "id": "1902b069",
   "metadata": {},
   "outputs": [
    {
     "data": {
      "text/plain": [
       "['orange', 'banana', 'watermelon']"
      ]
     },
     "execution_count": 7,
     "metadata": {},
     "output_type": "execute_result"
    }
   ],
   "source": [
    "def filter_long_words(lst,n):\n",
    "    result = []\n",
    "    for i in lst:\n",
    "        if len(i) > n:\n",
    "            result.append(i)\n",
    "    return result\n",
    "\n",
    "words = ['apple','orange','banana','mango','watermelon']\n",
    "\n",
    "filter_long_words(words,5)        "
   ]
  },
  {
   "cell_type": "markdown",
   "id": "19182eff",
   "metadata": {},
   "source": [
    "2.1 Write a Python program using function concept that maps list of words into a list of integers\n",
    "representing the lengths of the corresponding words.\n",
    "\n",
    "Hint: If a list [ ab,cde,erty] is passed on to the python function output should come as [2,3,4]\n",
    "Here 2,3 and 4 are the lengths of the words in the list."
   ]
  },
  {
   "cell_type": "code",
   "execution_count": 11,
   "id": "1a9587dd",
   "metadata": {},
   "outputs": [
    {
     "data": {
      "text/plain": [
       "[5, 6, 6, 5, 10]"
      ]
     },
     "execution_count": 11,
     "metadata": {},
     "output_type": "execute_result"
    }
   ],
   "source": [
    "def convert_to_len(lst):\n",
    "    result = []\n",
    "    for i in lst:\n",
    "        n = len(i)\n",
    "        result.append(n)\n",
    "    return result\n",
    "\n",
    "words = ['apple','orange','banana','mango','watermelon']\n",
    "\n",
    "convert_to_len(words)\n",
    "    "
   ]
  },
  {
   "cell_type": "markdown",
   "id": "f1b8794c",
   "metadata": {},
   "source": [
    "2.2 Write a Python function which takes a character (i.e. a string of length 1) and returns True if\n",
    "it is a vowel, False otherwise."
   ]
  },
  {
   "cell_type": "code",
   "execution_count": 14,
   "id": "5f61a9b2",
   "metadata": {},
   "outputs": [
    {
     "name": "stdout",
     "output_type": "stream",
     "text": [
      "Vowel checker\n",
      "Enter any character = U\n"
     ]
    },
    {
     "data": {
      "text/plain": [
       "True"
      ]
     },
     "execution_count": 14,
     "metadata": {},
     "output_type": "execute_result"
    }
   ],
   "source": [
    "def is_vowel(ch):\n",
    "    vowels = ['a','e','i','o','u','A','E','I','O','U']\n",
    "    if ch in vowels:\n",
    "        return True\n",
    "    else:\n",
    "        return False\n",
    "    \n",
    "print(\"Vowel checker\")\n",
    "is_vowel(input(\"Enter any character = \"))\n"
   ]
  },
  {
   "cell_type": "code",
   "execution_count": null,
   "id": "a51f8109",
   "metadata": {},
   "outputs": [],
   "source": []
  }
 ],
 "metadata": {
  "kernelspec": {
   "display_name": "Python 3",
   "language": "python",
   "name": "python3"
  },
  "language_info": {
   "codemirror_mode": {
    "name": "ipython",
    "version": 3
   },
   "file_extension": ".py",
   "mimetype": "text/x-python",
   "name": "python",
   "nbconvert_exporter": "python",
   "pygments_lexer": "ipython3",
   "version": "3.8.8"
  }
 },
 "nbformat": 4,
 "nbformat_minor": 5
}
